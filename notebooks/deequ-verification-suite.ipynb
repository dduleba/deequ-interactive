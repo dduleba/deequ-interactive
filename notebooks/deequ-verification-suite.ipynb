{
 "cells": [
  {
   "cell_type": "markdown",
   "metadata": {},
   "source": [
    "# Install deequ"
   ]
  },
  {
   "cell_type": "code",
   "execution_count": 1,
   "metadata": {},
   "outputs": [
    {
     "data": {
      "text/plain": [
       "\u001b[32mimport \u001b[39m\u001b[36m$ivy.$                                       \u001b[39m"
      ]
     },
     "execution_count": 1,
     "metadata": {},
     "output_type": "execute_result"
    }
   ],
   "source": [
    "import $ivy.`com.amazon.deequ:deequ:2.0.1-spark-3.2`"
   ]
  },
  {
   "cell_type": "markdown",
   "metadata": {},
   "source": [
    "## spark setup"
   ]
  },
  {
   "cell_type": "code",
   "execution_count": 2,
   "metadata": {},
   "outputs": [
    {
     "data": {
      "text/plain": [
       "\u001b[32mimport \u001b[39m\u001b[36morg.apache.log4j.Logger\n",
       "\u001b[39m\n",
       "\u001b[32mimport \u001b[39m\u001b[36morg.apache.log4j.Level\n",
       "\n",
       "\u001b[39m"
      ]
     },
     "execution_count": 2,
     "metadata": {},
     "output_type": "execute_result"
    }
   ],
   "source": [
    "import org.apache.log4j.Logger\n",
    "import org.apache.log4j.Level\n",
    "\n",
    "Logger.getLogger(\"org\").setLevel(Level.OFF)\n",
    "Logger.getLogger(\"akka\").setLevel(Level.OFF)"
   ]
  },
  {
   "cell_type": "code",
   "execution_count": 3,
   "metadata": {},
   "outputs": [
    {
     "name": "stderr",
     "output_type": "stream",
     "text": [
      "Using Spark's default log4j profile: org/apache/spark/log4j-defaults.properties\n"
     ]
    },
    {
     "data": {
      "text/plain": [
       "\u001b[32mimport \u001b[39m\u001b[36morg.apache.spark.sql.SparkSession\n",
       "\u001b[39m\n",
       "\u001b[36mspark\u001b[39m: \u001b[32mSparkSession\u001b[39m = org.apache.spark.sql.SparkSession@21a7a334\n",
       "\u001b[32mimport \u001b[39m\u001b[36mspark.implicits._\u001b[39m"
      ]
     },
     "execution_count": 3,
     "metadata": {},
     "output_type": "execute_result"
    }
   ],
   "source": [
    "import org.apache.spark.sql.SparkSession\n",
    "val spark = SparkSession.builder()\n",
    "      .master(\"local\")\n",
    "      .appName(\"test\")\n",
    "      .config(\"spark.ui.enabled\", \"false\")\n",
    "      .getOrCreate()\n",
    "    spark.sparkContext.setCheckpointDir(System.getProperty(\"java.io.tmpdir\"))\n",
    "import spark.implicits._"
   ]
  },
  {
   "cell_type": "code",
   "execution_count": 4,
   "metadata": {},
   "outputs": [
    {
     "data": {
      "text/plain": [
       "\u001b[32mimport \u001b[39m\u001b[36morg.apache.spark.sql.DataFrame\n",
       "\u001b[39m\n",
       "\u001b[32mimport \u001b[39m\u001b[36malmond.interpreter.api.DisplayData\n",
       "\n",
       "\u001b[39m\n",
       "defined \u001b[32mfunction\u001b[39m \u001b[36mshow\u001b[39m"
      ]
     },
     "execution_count": 4,
     "metadata": {},
     "output_type": "execute_result"
    }
   ],
   "source": [
    "import org.apache.spark.sql.DataFrame\n",
    "import almond.interpreter.api.DisplayData\n",
    "\n",
    "def show(df:DataFrame) {\n",
    "    val header = df.columns.map( columnName => s\"<td><b>${columnName.toString}<b></td>\").mkString(\"\")\n",
    "    val tableRows = df.collect.map(r => {\n",
    "        r.toSeq.map(value =>s\"<td>$value</td>\").mkString(\"\")\n",
    "    }).map(trow=> s\"<tr>$trow<tr>\").mkString(\"\")\n",
    "    val htmlTable = s\"<html><table><tr>${header}<tr>$tableRows</table></html>\"\n",
    "\n",
    "    display(DisplayData(\n",
    "    Map(\n",
    "      \"text/html\" -> htmlTable)))\n",
    "}"
   ]
  },
  {
   "cell_type": "markdown",
   "metadata": {},
   "source": [
    "## read data\n",
    "\n",
    "Both hour.csv and day.csv have the following fields, except hr which is not available in day.csv\n",
    "\n",
    "- instant: record index\n",
    "- dteday : date\n",
    "- season : season (1:winter, 2:spring, 3:summer, 4:fall)\n",
    "- yr : year (0: 2011, 1:2012)\n",
    "- mnth : month ( 1 to 12)\n",
    "- hr : hour (0 to 23)\n",
    "- holiday : weather day is holiday or not (extracted from [Web Link])\n",
    "- weekday : day of the week\n",
    "- workingday : if day is neither weekend nor holiday is 1, otherwise is 0.\n",
    "+ weathersit :\n",
    "- 1: Clear, Few clouds, Partly cloudy, Partly cloudy\n",
    "- 2: Mist + Cloudy, Mist + Broken clouds, Mist + Few clouds, Mist\n",
    "- 3: Light Snow, Light Rain + Thunderstorm + Scattered clouds, Light Rain + Scattered clouds\n",
    "- 4: Heavy Rain + Ice Pallets + Thunderstorm + Mist, Snow + Fog\n",
    "- temp : Normalized temperature in Celsius. The values are derived via (t-t_min)/(t_max-t_min), t_min=-8, t_max=+39 (only in hourly scale)\n",
    "- atemp: Normalized feeling temperature in Celsius. The values are derived via (t-t_min)/(t_max-t_min), t_min=-16, t_max=+50 (only in hourly scale)\n",
    "- hum: Normalized humidity. The values are divided to 100 (max)\n",
    "- windspeed: Normalized wind speed. The values are divided to 67 (max)\n",
    "- casual: count of casual users\n",
    "- registered: count of registered users\n",
    "- cnt: count of total rental bikes including both casual and registered"
   ]
  },
  {
   "cell_type": "code",
   "execution_count": 34,
   "metadata": {},
   "outputs": [
    {
     "name": "stdout",
     "output_type": "stream",
     "text": [
      "root\n",
      " |-- instant: integer (nullable = true)\n",
      " |-- dteday: string (nullable = true)\n",
      " |-- season: integer (nullable = true)\n",
      " |-- yr: integer (nullable = true)\n",
      " |-- mnth: integer (nullable = true)\n",
      " |-- holiday: integer (nullable = true)\n",
      " |-- weekday: integer (nullable = true)\n",
      " |-- workingday: integer (nullable = true)\n",
      " |-- weathersit: integer (nullable = true)\n",
      " |-- temp: double (nullable = true)\n",
      " |-- atemp: double (nullable = true)\n",
      " |-- hum: double (nullable = true)\n",
      " |-- windspeed: double (nullable = true)\n",
      " |-- casual: integer (nullable = true)\n",
      " |-- registered: integer (nullable = true)\n",
      " |-- cnt: integer (nullable = true)\n",
      "\n"
     ]
    },
    {
     "data": {
      "text/html": [
       "<html><table><tr><td><b>instant<b></td><td><b>dteday<b></td><td><b>season<b></td><td><b>yr<b></td><td><b>mnth<b></td><td><b>holiday<b></td><td><b>weekday<b></td><td><b>workingday<b></td><td><b>weathersit<b></td><td><b>temp<b></td><td><b>atemp<b></td><td><b>hum<b></td><td><b>windspeed<b></td><td><b>casual<b></td><td><b>registered<b></td><td><b>cnt<b></td><tr><tr><td>1</td><td>2011-01-01</td><td>1</td><td>0</td><td>1</td><td>0</td><td>6</td><td>0</td><td>2</td><td>0.344167</td><td>0.363625</td><td>0.805833</td><td>0.160446</td><td>331</td><td>654</td><td>985</td><tr><tr><td>2</td><td>2011-01-02</td><td>1</td><td>0</td><td>1</td><td>0</td><td>0</td><td>0</td><td>2</td><td>0.363478</td><td>0.353739</td><td>0.696087</td><td>0.248539</td><td>131</td><td>670</td><td>801</td><tr><tr><td>3</td><td>2011-01-03</td><td>1</td><td>0</td><td>1</td><td>0</td><td>1</td><td>1</td><td>1</td><td>0.196364</td><td>0.189405</td><td>0.437273</td><td>0.248309</td><td>120</td><td>1229</td><td>1349</td><tr><tr><td>4</td><td>2011-01-04</td><td>1</td><td>0</td><td>1</td><td>0</td><td>2</td><td>1</td><td>1</td><td>0.2</td><td>0.212122</td><td>0.590435</td><td>0.160296</td><td>108</td><td>1454</td><td>1562</td><tr><tr><td>5</td><td>2011-01-05</td><td>1</td><td>0</td><td>1</td><td>0</td><td>3</td><td>1</td><td>1</td><td>0.226957</td><td>0.22927</td><td>0.436957</td><td>0.1869</td><td>82</td><td>1518</td><td>1600</td><tr><tr><td>6</td><td>2011-01-06</td><td>1</td><td>0</td><td>1</td><td>0</td><td>4</td><td>1</td><td>1</td><td>0.204348</td><td>0.233209</td><td>0.518261</td><td>0.0895652</td><td>88</td><td>1518</td><td>1606</td><tr><tr><td>7</td><td>2011-01-07</td><td>1</td><td>0</td><td>1</td><td>0</td><td>5</td><td>1</td><td>2</td><td>0.196522</td><td>0.208839</td><td>0.498696</td><td>0.168726</td><td>148</td><td>1362</td><td>1510</td><tr><tr><td>8</td><td>2011-01-08</td><td>1</td><td>0</td><td>1</td><td>0</td><td>6</td><td>0</td><td>2</td><td>0.165</td><td>0.162254</td><td>0.535833</td><td>0.266804</td><td>68</td><td>891</td><td>959</td><tr><tr><td>9</td><td>2011-01-09</td><td>1</td><td>0</td><td>1</td><td>0</td><td>0</td><td>0</td><td>1</td><td>0.138333</td><td>0.116175</td><td>0.434167</td><td>0.36195</td><td>54</td><td>768</td><td>822</td><tr><tr><td>10</td><td>2011-01-10</td><td>1</td><td>0</td><td>1</td><td>0</td><td>1</td><td>1</td><td>1</td><td>0.150833</td><td>0.150888</td><td>0.482917</td><td>0.223267</td><td>41</td><td>1280</td><td>1321</td><tr><tr><td>11</td><td>2011-01-11</td><td>1</td><td>0</td><td>1</td><td>0</td><td>2</td><td>1</td><td>2</td><td>0.169091</td><td>0.191464</td><td>0.686364</td><td>0.122132</td><td>43</td><td>1220</td><td>1263</td><tr><tr><td>12</td><td>2011-01-12</td><td>1</td><td>0</td><td>1</td><td>0</td><td>3</td><td>1</td><td>1</td><td>0.172727</td><td>0.160473</td><td>0.599545</td><td>0.304627</td><td>25</td><td>1137</td><td>1162</td><tr><tr><td>13</td><td>2011-01-13</td><td>1</td><td>0</td><td>1</td><td>0</td><td>4</td><td>1</td><td>1</td><td>0.165</td><td>0.150883</td><td>0.470417</td><td>0.301</td><td>38</td><td>1368</td><td>1406</td><tr><tr><td>14</td><td>2011-01-14</td><td>1</td><td>0</td><td>1</td><td>0</td><td>5</td><td>1</td><td>1</td><td>0.16087</td><td>0.188413</td><td>0.537826</td><td>0.126548</td><td>54</td><td>1367</td><td>1421</td><tr><tr><td>15</td><td>2011-01-15</td><td>1</td><td>0</td><td>1</td><td>0</td><td>6</td><td>0</td><td>2</td><td>0.233333</td><td>0.248112</td><td>0.49875</td><td>0.157963</td><td>222</td><td>1026</td><td>1248</td><tr><tr><td>16</td><td>2011-01-16</td><td>1</td><td>0</td><td>1</td><td>0</td><td>0</td><td>0</td><td>1</td><td>0.231667</td><td>0.234217</td><td>0.48375</td><td>0.188433</td><td>251</td><td>953</td><td>1204</td><tr><tr><td>17</td><td>2011-01-17</td><td>1</td><td>0</td><td>1</td><td>1</td><td>1</td><td>0</td><td>2</td><td>0.175833</td><td>0.176771</td><td>0.5375</td><td>0.194017</td><td>117</td><td>883</td><td>1000</td><tr><tr><td>18</td><td>2011-01-18</td><td>1</td><td>0</td><td>1</td><td>0</td><td>2</td><td>1</td><td>2</td><td>0.216667</td><td>0.232333</td><td>0.861667</td><td>0.146775</td><td>9</td><td>674</td><td>683</td><tr><tr><td>19</td><td>2011-01-19</td><td>1</td><td>0</td><td>1</td><td>0</td><td>3</td><td>1</td><td>2</td><td>0.292174</td><td>0.298422</td><td>0.741739</td><td>0.208317</td><td>78</td><td>1572</td><td>1650</td><tr><tr><td>20</td><td>2011-01-20</td><td>1</td><td>0</td><td>1</td><td>0</td><td>4</td><td>1</td><td>2</td><td>0.261667</td><td>0.25505</td><td>0.538333</td><td>0.195904</td><td>83</td><td>1844</td><td>1927</td><tr><tr><td>21</td><td>2011-01-21</td><td>1</td><td>0</td><td>1</td><td>0</td><td>5</td><td>1</td><td>1</td><td>0.1775</td><td>0.157833</td><td>0.457083</td><td>0.353242</td><td>75</td><td>1468</td><td>1543</td><tr><tr><td>22</td><td>2011-01-22</td><td>1</td><td>0</td><td>1</td><td>0</td><td>6</td><td>0</td><td>1</td><td>0.0591304</td><td>0.0790696</td><td>0.4</td><td>0.17197</td><td>93</td><td>888</td><td>981</td><tr><tr><td>23</td><td>2011-01-23</td><td>1</td><td>0</td><td>1</td><td>0</td><td>0</td><td>0</td><td>1</td><td>0.0965217</td><td>0.0988391</td><td>0.436522</td><td>0.2466</td><td>150</td><td>836</td><td>986</td><tr><tr><td>24</td><td>2011-01-24</td><td>1</td><td>0</td><td>1</td><td>0</td><td>1</td><td>1</td><td>1</td><td>0.0973913</td><td>0.11793</td><td>0.491739</td><td>0.15833</td><td>86</td><td>1330</td><td>1416</td><tr><tr><td>25</td><td>2011-01-25</td><td>1</td><td>0</td><td>1</td><td>0</td><td>2</td><td>1</td><td>2</td><td>0.223478</td><td>0.234526</td><td>0.616957</td><td>0.129796</td><td>186</td><td>1799</td><td>1985</td><tr><tr><td>26</td><td>2011-01-26</td><td>1</td><td>0</td><td>1</td><td>0</td><td>3</td><td>1</td><td>3</td><td>0.2175</td><td>0.2036</td><td>0.8625</td><td>0.29385</td><td>34</td><td>472</td><td>506</td><tr><tr><td>27</td><td>2011-01-27</td><td>1</td><td>0</td><td>1</td><td>0</td><td>4</td><td>1</td><td>1</td><td>0.195</td><td>0.2197</td><td>0.6875</td><td>0.113837</td><td>15</td><td>416</td><td>431</td><tr><tr><td>28</td><td>2011-01-28</td><td>1</td><td>0</td><td>1</td><td>0</td><td>5</td><td>1</td><td>2</td><td>0.203478</td><td>0.223317</td><td>0.793043</td><td>0.1233</td><td>38</td><td>1129</td><td>1167</td><tr><tr><td>29</td><td>2011-01-29</td><td>1</td><td>0</td><td>1</td><td>0</td><td>6</td><td>0</td><td>1</td><td>0.196522</td><td>0.212126</td><td>0.651739</td><td>0.145365</td><td>123</td><td>975</td><td>1098</td><tr><tr><td>30</td><td>2011-01-30</td><td>1</td><td>0</td><td>1</td><td>0</td><td>0</td><td>0</td><td>1</td><td>0.216522</td><td>0.250322</td><td>0.722174</td><td>0.0739826</td><td>140</td><td>956</td><td>1096</td><tr></table></html>"
      ]
     },
     "metadata": {},
     "output_type": "display_data"
    },
    {
     "data": {
      "text/plain": [
       "\u001b[32mimport \u001b[39m\u001b[36mcom.amazon.deequ.suggestions.{ConstraintSuggestionRunner, Rules}\n",
       "\u001b[39m\n",
       "\u001b[36mdf\u001b[39m: \u001b[32mDataFrame\u001b[39m = [instant: int, dteday: string ... 14 more fields]"
      ]
     },
     "execution_count": 34,
     "metadata": {},
     "output_type": "execute_result"
    }
   ],
   "source": [
    "import com.amazon.deequ.suggestions.{ConstraintSuggestionRunner, Rules}\n",
    "val df: DataFrame = spark.read.format(\"csv\")\n",
    "  .option(\"header\", \"true\")\n",
    "  .option(\"inferSchema\", \"true\")\n",
    "  .load(\"data/day.csv\")\n",
    "df.printSchema\n",
    "show(df.limit(30))"
   ]
  },
  {
   "cell_type": "markdown",
   "metadata": {},
   "source": [
    "# Verification suites"
   ]
  },
  {
   "cell_type": "markdown",
   "metadata": {},
   "source": [
    "## where condition"
   ]
  },
  {
   "cell_type": "code",
   "execution_count": 33,
   "metadata": {},
   "outputs": [
    {
     "data": {
      "text/html": [
       "<html><table><tr><td><b>check<b></td><td><b>check_level<b></td><td><b>check_status<b></td><td><b>constraint<b></td><td><b>constraint_status<b></td><td><b>constraint_message<b></td><tr><tr><td>where</td><td>Error</td><td>Error</td><td>ComplianceConstraint(Compliance(check casual percentage,casual/registered > 0.1,None))</td><td>Failure</td><td>Value: 0.27586206896551724 does not meet the constraint requirement!</td><tr><tr><td>where</td><td>Error</td><td>Error</td><td>ComplianceConstraint(Compliance(weekday contained in 6,0,`weekday` IS NULL OR `weekday` IN ('6','0'),Some(workingday = 0 and holiday != 1)))</td><td>Success</td><td></td><tr><tr><td>where</td><td>Error</td><td>Error</td><td>ComplianceConstraint(Compliance(check casual precentage in weekends,casual/registered > 0.1,Some(workingday=0)))</td><td>Success</td><td></td><tr></table></html>"
      ]
     },
     "metadata": {},
     "output_type": "display_data"
    },
    {
     "data": {
      "text/plain": [
       "\u001b[32mimport \u001b[39m\u001b[36mcom.amazon.deequ.{VerificationResult, VerificationSuite}\n",
       "\u001b[39m\n",
       "\u001b[32mimport \u001b[39m\u001b[36mcom.amazon.deequ.checks.{Check, CheckLevel, CheckStatus}\n",
       "\u001b[39m\n",
       "\u001b[32mimport \u001b[39m\u001b[36mcom.amazon.deequ.constraints.{ConstrainableDataTypes, ConstraintStatus}\n",
       "\u001b[39m\n",
       "\u001b[32mimport \u001b[39m\u001b[36morg.apache.spark.sql.DataFrame\n",
       "\n",
       "\u001b[39m\n",
       "\u001b[36mverificationResult\u001b[39m: \u001b[32mVerificationResult\u001b[39m = \u001b[33mVerificationResult\u001b[39m(\n",
       "  Error,\n",
       "  \u001b[33mMap\u001b[39m(\n",
       "    \u001b[33mCheck\u001b[39m(\n",
       "      Error,\n",
       "      \u001b[32m\"where\"\u001b[39m,\n",
       "      \u001b[33mList\u001b[39m(\n",
       "        ComplianceConstraint(Compliance(weekday contained in 6,0,`weekday` IS NULL OR `weekday` IN ('6','0'),Some(workingday = 0 and holiday != 1))),\n",
       "        ComplianceConstraint(Compliance(check casual percentage,casual/registered > 0.1,None)),\n",
       "        ComplianceConstraint(Compliance(check casual precentage in weekends,casual/registered > 0.1,Some(workingday=0)))\n",
       "      )\n",
       "    ) -> \u001b[33mCheckResult\u001b[39m(\n",
       "      \u001b[33mCheck\u001b[39m(\n",
       "        Error,\n",
       "        \u001b[32m\"where\"\u001b[39m,\n",
       "        \u001b[33mList\u001b[39m(\n",
       "          ComplianceConstraint(Compliance(weekday contained in 6,0,`weekday` IS NULL OR `weekday` IN ('6','0'),Some(workingday = 0 and holiday != 1))),\n",
       "          ComplianceConstraint(Compliance(check casual percentage,casual/registered > 0.1,None)),\n",
       "          ComplianceConstraint(Compliance(check casual precentage in weekends,casual/registered > 0.1,Some(workingday=0)))\n",
       "        )\n",
       "      ),\n",
       "      Error,\n",
       "      \u001b[33mList\u001b[39m(\n",
       "        \u001b[33mConstraintResult\u001b[39m(\n",
       "          ComplianceConstraint(Compliance(weekday contained in 6,0,`weekday` IS NULL OR `weekday` IN ('6','0'),Some(workingday = 0 and holiday != 1))),\n",
       "          Success,\n",
       "          \u001b[32mNone\u001b[39m,\n",
       "          \u001b[33mSome\u001b[39m(\n",
       "            \u001b[33mDoubleMetric\u001b[39m(\n",
       "              Column,\n",
       "              \u001b[32m\"Compliance\"\u001b[39m,\n",
       "              \u001b[32m\"weekday contained in 6,0\"\u001b[39m,\n",
       "...\n",
       "\u001b[36mdfResults\u001b[39m: \u001b[32mDataFrame\u001b[39m = [check: string, check_level: string ... 4 more fields]"
      ]
     },
     "execution_count": 33,
     "metadata": {},
     "output_type": "execute_result"
    }
   ],
   "source": [
    "import com.amazon.deequ.{VerificationResult, VerificationSuite}\n",
    "import com.amazon.deequ.checks.{Check, CheckLevel, CheckStatus}\n",
    "import com.amazon.deequ.constraints.{ConstrainableDataTypes, ConstraintStatus}\n",
    "import org.apache.spark.sql.DataFrame\n",
    "\n",
    "val verificationResult = VerificationSuite()\n",
    "      .onData(df.filter('yr===1 && 'mnth === 2))\n",
    "      .addCheck(\n",
    "        Check(CheckLevel.Error, \"where\")\n",
    "            .isContainedIn(\"weekday\", Array(\"6\",\"0\")).where(\"workingday = 0 and holiday != 1\")\n",
    "            .satisfies(\"casual/registered > 0.1\", \"check casual percentage\",_>=0.7)\n",
    "            .satisfies(\"casual/registered > 0.1\", \"check casual precentage in weekends\", _>=0.7).where(\"workingday=0\")\n",
    "          ).run\n",
    "val dfResults = VerificationResult.checkResultsAsDataFrame(spark, verificationResult)\n",
    "show(dfResults.orderBy(\"constraint_status\"))"
   ]
  },
  {
   "cell_type": "markdown",
   "metadata": {},
   "source": [
    "## Hints"
   ]
  },
  {
   "cell_type": "code",
   "execution_count": 39,
   "metadata": {},
   "outputs": [
    {
     "data": {
      "text/html": [
       "<html><table><tr><td><b>check<b></td><td><b>check_level<b></td><td><b>check_status<b></td><td><b>constraint<b></td><td><b>constraint_status<b></td><td><b>constraint_message<b></td><tr><tr><td>With errors</td><td>Error</td><td>Error</td><td>UniquenessConstraint(Uniqueness(List(temp),Some(workingday='1')))</td><td>Failure</td><td>Value: 0.748 does not meet the constraint requirement!</td><tr><tr><td>With errors</td><td>Error</td><td>Error</td><td>DistinctnessConstraint(Distinctness(List(temp),None))</td><td>Failure</td><td>Value: 0.8005464480874317 does not meet the constraint requirement!</td><tr><tr><td>With errors</td><td>Error</td><td>Error</td><td>DistinctnessConstraint(Distinctness(List(instant),None))</td><td>Failure</td><td>Value: 1.0 does not meet the constraint requirement! Check for instant uniqueness</td><tr><tr><td>With errors</td><td>Error</td><td>Error</td><td>AnalysisBasedConstraint(DataType(temp,None),<function1>,Some(<function1>),Some(Check are there string data))</td><td>Failure</td><td>Value: 0.0 does not meet the constraint requirement! Check are there string data</td><tr><tr><td>With errors</td><td>Error</td><td>Error</td><td>SizeConstraint(Size(None))</td><td>Failure</td><td>Value: 366 does not meet the constraint requirement! Expected size 365</td><tr><tr><td>With errors</td><td>Error</td><td>Error</td><td>SumConstraint(Sum(cnt,None))</td><td>Failure</td><td>Value: 2049576.0 does not meet the constraint requirement! Expected bike shares cnt > 10000000</td><tr><tr><td>With errors</td><td>Error</td><td>Error</td><td>CorrelationConstraint(Correlation(season,temp,None))</td><td>Failure</td><td>Value: 0.29387642123889274 does not meet the constraint requirement!</td><tr><tr><td>With errors</td><td>Error</td><td>Error</td><td>CorrelationConstraint(Correlation(temp,cnt,None))</td><td>Failure</td><td>Value: 0.7137931988838034 does not meet the constraint requirement!</td><tr><tr><td>With errors</td><td>Error</td><td>Error</td><td>ComplianceConstraint(Compliance(temp check in workday,temp > hum,None))</td><td>Failure</td><td>Value: 0.31420765027322406 does not meet the constraint requirement!</td><tr></table></html>"
      ]
     },
     "metadata": {},
     "output_type": "display_data"
    },
    {
     "data": {
      "text/plain": [
       "\u001b[36mverificationResult\u001b[39m: \u001b[32mVerificationResult\u001b[39m = \u001b[33mVerificationResult\u001b[39m(\n",
       "  Error,\n",
       "  \u001b[33mMap\u001b[39m(\n",
       "    \u001b[33mCheck\u001b[39m(\n",
       "      Error,\n",
       "      \u001b[32m\"With errors\"\u001b[39m,\n",
       "      \u001b[33mList\u001b[39m(\n",
       "        UniquenessConstraint(Uniqueness(List(temp),Some(workingday='1'))),\n",
       "        DistinctnessConstraint(Distinctness(List(temp),None)),\n",
       "        DistinctnessConstraint(Distinctness(List(instant),None)),\n",
       "        \u001b[33mAnalysisBasedConstraint\u001b[39m(\n",
       "          \u001b[33mDataType\u001b[39m(\u001b[32m\"temp\"\u001b[39m, \u001b[32mNone\u001b[39m),\n",
       "          ammonite.$sess.cmd38$Helper$$Lambda$6468/1423195614@282a6f02,\n",
       "          \u001b[33mSome\u001b[39m(\n",
       "            com.amazon.deequ.constraints.Constraint$$$Lambda$6156/755216664@5acffcfe\n",
       "          ),\n",
       "          \u001b[33mSome\u001b[39m(\u001b[32m\"Check are there string data\"\u001b[39m)\n",
       "        ),\n",
       "        SizeConstraint(Size(None)),\n",
       "        SumConstraint(Sum(cnt,None)),\n",
       "        CorrelationConstraint(Correlation(season,temp,None)),\n",
       "        CorrelationConstraint(Correlation(temp,cnt,None)),\n",
       "        ComplianceConstraint(Compliance(temp check in workday,temp > hum,None))\n",
       "      )\n",
       "    ) -> \u001b[33mCheckResult\u001b[39m(\n",
       "      \u001b[33mCheck\u001b[39m(\n",
       "        Error,\n",
       "        \u001b[32m\"With errors\"\u001b[39m,\n",
       "        \u001b[33mList\u001b[39m(\n",
       "          UniquenessConstraint(Uniqueness(List(temp),Some(workingday='1'))),\n",
       "          DistinctnessConstraint(Distinctness(List(temp),None)),\n",
       "          DistinctnessConstraint(Distinctness(List(instant),None)),\n",
       "          \u001b[33mAnalysisBasedConstraint\u001b[39m(\n",
       "            \u001b[33mDataType\u001b[39m(\u001b[32m\"temp\"\u001b[39m, \u001b[32mNone\u001b[39m),\n",
       "            ammonite.$sess.cmd38$Helper$$Lambda$6468/1423195614@282a6f02,\n",
       "            \u001b[33mSome\u001b[39m(\n",
       "              com.amazon.deequ.constraints.Constraint$$$Lambda$6156/755216664@5acffcfe\n",
       "...\n",
       "\u001b[36mdfResults\u001b[39m: \u001b[32mDataFrame\u001b[39m = [check: string, check_level: string ... 4 more fields]"
      ]
     },
     "execution_count": 39,
     "metadata": {},
     "output_type": "execute_result"
    }
   ],
   "source": [
    " val verificationResult = VerificationSuite()\n",
    "      .onData(df.filter(\"yr=1\"))\n",
    "      .addCheck(Check(CheckLevel.Error, \"With errors\")\n",
    "        // not satisfied constraints\n",
    "        .isUnique(\"temp\").where(\"workingday='1'\")\n",
    "        .hasDistinctness(Seq(\"temp\"), _ == 1)\n",
    "        .hasDistinctness(Seq(\"instant\"), _ < 1, Some(\"Check for instant uniqueness\"))\n",
    "        .hasDataType(\"temp\", ConstrainableDataTypes.String, _==1, Some(\"Check are there string data\"))\n",
    "        .hasSize(_ == 365, Some(\"Expected size 365\"))\n",
    "        .hasSum(\"cnt\", _ > 10000000, hint = Some(\"Expected bike shares cnt > 10000000\"))\n",
    "        .hasCorrelation(\"season\", \"temp\", _ > 0.5)\n",
    "        .hasCorrelation(\"temp\", \"cnt\", _ < 0.5)\n",
    "        .satisfies(columnCondition = \"temp > hum\",\n",
    "          constraintName = \"temp check in workday\",\n",
    "          assertion = _ > 0.5)\n",
    "      ).run\n",
    "\n",
    "    val dfResults = VerificationResult.checkResultsAsDataFrame(spark, verificationResult)\n",
    "    show(dfResults.orderBy(\"constraint_status\"))"
   ]
  }
 ],
 "metadata": {
  "kernelspec": {
   "display_name": "Scala 2.12",
   "language": "scala",
   "name": "scala212"
  },
  "language_info": {
   "codemirror_mode": "text/x-scala",
   "file_extension": ".sc",
   "mimetype": "text/x-scala",
   "name": "scala",
   "nbconvert_exporter": "script",
   "version": "2.12.12"
  }
 },
 "nbformat": 4,
 "nbformat_minor": 4
}
